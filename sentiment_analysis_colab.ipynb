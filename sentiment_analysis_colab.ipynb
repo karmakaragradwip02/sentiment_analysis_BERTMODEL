{
  "cells": [
    {
      "cell_type": "code",
      "execution_count": 1,
      "metadata": {
        "id": "dd7e7135-7fb0-4c2f-9d49-085307460707"
      },
      "outputs": [],
      "source": [
        "import os\n",
        "import csv\n",
        "import numpy as np\n",
        "import pandas as pd\n",
        "import torch"
      ],
      "id": "dd7e7135-7fb0-4c2f-9d49-085307460707"
    },
    {
      "cell_type": "code",
      "execution_count": 2,
      "metadata": {
        "colab": {
          "base_uri": "https://localhost:8080/",
          "height": 206
        },
        "id": "60862d20-43a1-41ac-a8b5-a6d8e1b0ba14",
        "outputId": "2a70e961-1c7c-4aae-ca19-293da0c1adea"
      },
      "outputs": [
        {
          "output_type": "execute_result",
          "data": {
            "text/plain": [
              "                                                Text  Sentiment\n",
              "0  Trading on the success of the 1975 hit, this f...          0\n",
              "1  Is this supposed to be serious? I hope not. Th...          0\n",
              "2  So many great actors, so little worth watching...          0\n",
              "3  This is the type of late-night cable flick usu...          0\n",
              "4  I remember when I first heard about Jack Frost...          0"
            ],
            "text/html": [
              "\n",
              "  <div id=\"df-d7a36975-a735-484f-a06f-f4afc8b4e603\" class=\"colab-df-container\">\n",
              "    <div>\n",
              "<style scoped>\n",
              "    .dataframe tbody tr th:only-of-type {\n",
              "        vertical-align: middle;\n",
              "    }\n",
              "\n",
              "    .dataframe tbody tr th {\n",
              "        vertical-align: top;\n",
              "    }\n",
              "\n",
              "    .dataframe thead th {\n",
              "        text-align: right;\n",
              "    }\n",
              "</style>\n",
              "<table border=\"1\" class=\"dataframe\">\n",
              "  <thead>\n",
              "    <tr style=\"text-align: right;\">\n",
              "      <th></th>\n",
              "      <th>Text</th>\n",
              "      <th>Sentiment</th>\n",
              "    </tr>\n",
              "  </thead>\n",
              "  <tbody>\n",
              "    <tr>\n",
              "      <th>0</th>\n",
              "      <td>Trading on the success of the 1975 hit, this f...</td>\n",
              "      <td>0</td>\n",
              "    </tr>\n",
              "    <tr>\n",
              "      <th>1</th>\n",
              "      <td>Is this supposed to be serious? I hope not. Th...</td>\n",
              "      <td>0</td>\n",
              "    </tr>\n",
              "    <tr>\n",
              "      <th>2</th>\n",
              "      <td>So many great actors, so little worth watching...</td>\n",
              "      <td>0</td>\n",
              "    </tr>\n",
              "    <tr>\n",
              "      <th>3</th>\n",
              "      <td>This is the type of late-night cable flick usu...</td>\n",
              "      <td>0</td>\n",
              "    </tr>\n",
              "    <tr>\n",
              "      <th>4</th>\n",
              "      <td>I remember when I first heard about Jack Frost...</td>\n",
              "      <td>0</td>\n",
              "    </tr>\n",
              "  </tbody>\n",
              "</table>\n",
              "</div>\n",
              "    <div class=\"colab-df-buttons\">\n",
              "\n",
              "  <div class=\"colab-df-container\">\n",
              "    <button class=\"colab-df-convert\" onclick=\"convertToInteractive('df-d7a36975-a735-484f-a06f-f4afc8b4e603')\"\n",
              "            title=\"Convert this dataframe to an interactive table.\"\n",
              "            style=\"display:none;\">\n",
              "\n",
              "  <svg xmlns=\"http://www.w3.org/2000/svg\" height=\"24px\" viewBox=\"0 -960 960 960\">\n",
              "    <path d=\"M120-120v-720h720v720H120Zm60-500h600v-160H180v160Zm220 220h160v-160H400v160Zm0 220h160v-160H400v160ZM180-400h160v-160H180v160Zm440 0h160v-160H620v160ZM180-180h160v-160H180v160Zm440 0h160v-160H620v160Z\"/>\n",
              "  </svg>\n",
              "    </button>\n",
              "\n",
              "  <style>\n",
              "    .colab-df-container {\n",
              "      display:flex;\n",
              "      gap: 12px;\n",
              "    }\n",
              "\n",
              "    .colab-df-convert {\n",
              "      background-color: #E8F0FE;\n",
              "      border: none;\n",
              "      border-radius: 50%;\n",
              "      cursor: pointer;\n",
              "      display: none;\n",
              "      fill: #1967D2;\n",
              "      height: 32px;\n",
              "      padding: 0 0 0 0;\n",
              "      width: 32px;\n",
              "    }\n",
              "\n",
              "    .colab-df-convert:hover {\n",
              "      background-color: #E2EBFA;\n",
              "      box-shadow: 0px 1px 2px rgba(60, 64, 67, 0.3), 0px 1px 3px 1px rgba(60, 64, 67, 0.15);\n",
              "      fill: #174EA6;\n",
              "    }\n",
              "\n",
              "    .colab-df-buttons div {\n",
              "      margin-bottom: 4px;\n",
              "    }\n",
              "\n",
              "    [theme=dark] .colab-df-convert {\n",
              "      background-color: #3B4455;\n",
              "      fill: #D2E3FC;\n",
              "    }\n",
              "\n",
              "    [theme=dark] .colab-df-convert:hover {\n",
              "      background-color: #434B5C;\n",
              "      box-shadow: 0px 1px 3px 1px rgba(0, 0, 0, 0.15);\n",
              "      filter: drop-shadow(0px 1px 2px rgba(0, 0, 0, 0.3));\n",
              "      fill: #FFFFFF;\n",
              "    }\n",
              "  </style>\n",
              "\n",
              "    <script>\n",
              "      const buttonEl =\n",
              "        document.querySelector('#df-d7a36975-a735-484f-a06f-f4afc8b4e603 button.colab-df-convert');\n",
              "      buttonEl.style.display =\n",
              "        google.colab.kernel.accessAllowed ? 'block' : 'none';\n",
              "\n",
              "      async function convertToInteractive(key) {\n",
              "        const element = document.querySelector('#df-d7a36975-a735-484f-a06f-f4afc8b4e603');\n",
              "        const dataTable =\n",
              "          await google.colab.kernel.invokeFunction('convertToInteractive',\n",
              "                                                    [key], {});\n",
              "        if (!dataTable) return;\n",
              "\n",
              "        const docLinkHtml = 'Like what you see? Visit the ' +\n",
              "          '<a target=\"_blank\" href=https://colab.research.google.com/notebooks/data_table.ipynb>data table notebook</a>'\n",
              "          + ' to learn more about interactive tables.';\n",
              "        element.innerHTML = '';\n",
              "        dataTable['output_type'] = 'display_data';\n",
              "        await google.colab.output.renderOutput(dataTable, element);\n",
              "        const docLink = document.createElement('div');\n",
              "        docLink.innerHTML = docLinkHtml;\n",
              "        element.appendChild(docLink);\n",
              "      }\n",
              "    </script>\n",
              "  </div>\n",
              "\n",
              "\n",
              "<div id=\"df-20aa199f-e7db-452d-a188-c8c7012d9c10\">\n",
              "  <button class=\"colab-df-quickchart\" onclick=\"quickchart('df-20aa199f-e7db-452d-a188-c8c7012d9c10')\"\n",
              "            title=\"Suggest charts\"\n",
              "            style=\"display:none;\">\n",
              "\n",
              "<svg xmlns=\"http://www.w3.org/2000/svg\" height=\"24px\"viewBox=\"0 0 24 24\"\n",
              "     width=\"24px\">\n",
              "    <g>\n",
              "        <path d=\"M19 3H5c-1.1 0-2 .9-2 2v14c0 1.1.9 2 2 2h14c1.1 0 2-.9 2-2V5c0-1.1-.9-2-2-2zM9 17H7v-7h2v7zm4 0h-2V7h2v10zm4 0h-2v-4h2v4z\"/>\n",
              "    </g>\n",
              "</svg>\n",
              "  </button>\n",
              "\n",
              "<style>\n",
              "  .colab-df-quickchart {\n",
              "      --bg-color: #E8F0FE;\n",
              "      --fill-color: #1967D2;\n",
              "      --hover-bg-color: #E2EBFA;\n",
              "      --hover-fill-color: #174EA6;\n",
              "      --disabled-fill-color: #AAA;\n",
              "      --disabled-bg-color: #DDD;\n",
              "  }\n",
              "\n",
              "  [theme=dark] .colab-df-quickchart {\n",
              "      --bg-color: #3B4455;\n",
              "      --fill-color: #D2E3FC;\n",
              "      --hover-bg-color: #434B5C;\n",
              "      --hover-fill-color: #FFFFFF;\n",
              "      --disabled-bg-color: #3B4455;\n",
              "      --disabled-fill-color: #666;\n",
              "  }\n",
              "\n",
              "  .colab-df-quickchart {\n",
              "    background-color: var(--bg-color);\n",
              "    border: none;\n",
              "    border-radius: 50%;\n",
              "    cursor: pointer;\n",
              "    display: none;\n",
              "    fill: var(--fill-color);\n",
              "    height: 32px;\n",
              "    padding: 0;\n",
              "    width: 32px;\n",
              "  }\n",
              "\n",
              "  .colab-df-quickchart:hover {\n",
              "    background-color: var(--hover-bg-color);\n",
              "    box-shadow: 0 1px 2px rgba(60, 64, 67, 0.3), 0 1px 3px 1px rgba(60, 64, 67, 0.15);\n",
              "    fill: var(--button-hover-fill-color);\n",
              "  }\n",
              "\n",
              "  .colab-df-quickchart-complete:disabled,\n",
              "  .colab-df-quickchart-complete:disabled:hover {\n",
              "    background-color: var(--disabled-bg-color);\n",
              "    fill: var(--disabled-fill-color);\n",
              "    box-shadow: none;\n",
              "  }\n",
              "\n",
              "  .colab-df-spinner {\n",
              "    border: 2px solid var(--fill-color);\n",
              "    border-color: transparent;\n",
              "    border-bottom-color: var(--fill-color);\n",
              "    animation:\n",
              "      spin 1s steps(1) infinite;\n",
              "  }\n",
              "\n",
              "  @keyframes spin {\n",
              "    0% {\n",
              "      border-color: transparent;\n",
              "      border-bottom-color: var(--fill-color);\n",
              "      border-left-color: var(--fill-color);\n",
              "    }\n",
              "    20% {\n",
              "      border-color: transparent;\n",
              "      border-left-color: var(--fill-color);\n",
              "      border-top-color: var(--fill-color);\n",
              "    }\n",
              "    30% {\n",
              "      border-color: transparent;\n",
              "      border-left-color: var(--fill-color);\n",
              "      border-top-color: var(--fill-color);\n",
              "      border-right-color: var(--fill-color);\n",
              "    }\n",
              "    40% {\n",
              "      border-color: transparent;\n",
              "      border-right-color: var(--fill-color);\n",
              "      border-top-color: var(--fill-color);\n",
              "    }\n",
              "    60% {\n",
              "      border-color: transparent;\n",
              "      border-right-color: var(--fill-color);\n",
              "    }\n",
              "    80% {\n",
              "      border-color: transparent;\n",
              "      border-right-color: var(--fill-color);\n",
              "      border-bottom-color: var(--fill-color);\n",
              "    }\n",
              "    90% {\n",
              "      border-color: transparent;\n",
              "      border-bottom-color: var(--fill-color);\n",
              "    }\n",
              "  }\n",
              "</style>\n",
              "\n",
              "  <script>\n",
              "    async function quickchart(key) {\n",
              "      const quickchartButtonEl =\n",
              "        document.querySelector('#' + key + ' button');\n",
              "      quickchartButtonEl.disabled = true;  // To prevent multiple clicks.\n",
              "      quickchartButtonEl.classList.add('colab-df-spinner');\n",
              "      try {\n",
              "        const charts = await google.colab.kernel.invokeFunction(\n",
              "            'suggestCharts', [key], {});\n",
              "      } catch (error) {\n",
              "        console.error('Error during call to suggestCharts:', error);\n",
              "      }\n",
              "      quickchartButtonEl.classList.remove('colab-df-spinner');\n",
              "      quickchartButtonEl.classList.add('colab-df-quickchart-complete');\n",
              "    }\n",
              "    (() => {\n",
              "      let quickchartButtonEl =\n",
              "        document.querySelector('#df-20aa199f-e7db-452d-a188-c8c7012d9c10 button');\n",
              "      quickchartButtonEl.style.display =\n",
              "        google.colab.kernel.accessAllowed ? 'block' : 'none';\n",
              "    })();\n",
              "  </script>\n",
              "</div>\n",
              "\n",
              "    </div>\n",
              "  </div>\n"
            ],
            "application/vnd.google.colaboratory.intrinsic+json": {
              "type": "dataframe",
              "variable_name": "X",
              "summary": "{\n  \"name\": \"X\",\n  \"rows\": 25000,\n  \"fields\": [\n    {\n      \"column\": \"Text\",\n      \"properties\": {\n        \"dtype\": \"string\",\n        \"samples\": [\n          \"I am listening to Istanbul, intent, my eyes closed: At first there is a gentle breeze And the leaves on the trees Softly sway; Out there, far away, The bells of water-carriers unceasingly ring; I am listening to Istanbul, intent, my eyes closed.<br /><br />I am listening to Istanbul, intent, my eyes closed; Then suddenly birds fly by, Flocks of birds, high up, with a hue and cry, While the nets are drawn in the fishing grounds And a woman's feet begin to dabble in the water. I am Iistening to Istanbul, intent, my eyes closed.<br /><br />I am listening to Istanbul, intent, my eyes closed. The Grand Bazaar's serene and cool, An uproar at the hub of the Market, Mosque yards are full of pigeons. While hammers bang and clang at the docks Spring winds bear the smell of sweat; I am listening to Istanbul, intent, my eyes closed.<br /><br />I am listening to Istanbul, intent, my eyes closed; Still giddy from the revelries of the past, A seaside mansion with dingy boathouses is fast asleep. Amid the din and drone of southern winds, reposed, I am listening to Istanbul, intent, my eyes closed.<br /><br />I am listening to Istanbul, intent, my eyes closed. A pretty girl walks by on the sidewalk: Four-letter words, whistles and songs, rude remarks; Something falls out of her hand It is a rose, I guess. I am listening to Istanbul, intent, my eyes closed.<br /><br />I am listening to Istanbul, intent, my eyes closed. A bird flutters round your skirt; On your brow, is there sweat? Or not? I know. Are your lips wet? Or not? I know. A silver moon rises beyond the pine trees: I can sense it all in your heart's throbbing. I am listening to Istanbul, intent, my eyes closed.<br /><br />FOR YOU<br /><br />For you, my fellow humans, Everything is for you, Nights are for you, days are for you; Daylight is for you, moonlight is for you; Leaves in the moonlight; Wonder and wisdom in the leaves, Myriad greens in daylight, Yellow is for you, and pink. The feel of the skin on the palm, Its warmth, Its softness, The comfort of lying down; For you are all the greetings And the masts winnowing in the harbor; Names of the days, Names of the months, Fresh paint on rowboats is for you Mailman's feet, Potter's hands Sweat on foreheads, Bullets fired on battlefronts; Graves are for you and tombstones, Jails and handcuffs and death sentences Are for you Everything is for you.<br /><br />SEA NOSTALGIA<br /><br />Vessels sail along my dreams, Over the roofs, ships in a feast of color, And poor me, Yearning for the sea year in year out, I gaze and weep. I recall my first sight of the world Through a mussel shell I pried open: The greenest water and the bluest sky And the rippliest of lump-fish... My blood still flows salty Where the oysters slit my skin. What a mad speed plunge was ours Into the high seas on the whitest foam! Foam bears no malice, Like lips Whose adultery with men Is no disgrace.<br /><br />Vessels sail along our dreams Over the roofs, ships in a feast of color, And poor me, Yearning for the sea year in year out.<br /><br />-- Orhan Veli<br /><br />I could not have said anything better than what Orhal Veli Kanik said about Istanbul. About this movie, all I have is praise. A very nice and balanced introduction to a city and its music that connected Asia, Europe and Africa at one point of time.\",\n          \"I loved that the mood was light and airy. I loved that the lead character wanted guarantees about his future, and that his roommate sets him \\\"straight\\\" of all people. I loved that they tackled the dynamics of how the members in the men's group dealt with each other, considering this was directed by a lesbian,the whole theme of masculinity was put out there, ridiculed, dissected and questioned. What makes a man? What makes one straight, gay, or bisexual? You aren't really sure if our lead character has decided on who he really wants; he's living in the moment and thrown caution to the wind. These, and other reasons, make me love this film.\",\n          \"so, i won't disagree with the critics but I really was not all that moved by this movie. i was a little hesitant to rent it,as I am going through some of the same things the protagonist is supposed to be experiencing. yet, i did rent it thinking that I might experience some catharsis, or at the least understand that I am not alone. while i understood the protagonist's irritation with his careless cousin, I didn't feel his internal struggle with isolation as much as I would have liked. i felt that much more emphasis was placed on his disruptive cousin overstaying his welcome. it is a beautifully filmed movie, and I did really appreciate the use of silence to bring out the feeling of isolation.\"\n        ],\n        \"num_unique_values\": 24801,\n        \"semantic_type\": \"\",\n        \"description\": \"\"\n      }\n    },\n    {\n      \"column\": \"Sentiment\",\n      \"properties\": {\n        \"dtype\": \"number\",\n        \"std\": 0,\n        \"min\": 0,\n        \"max\": 1,\n        \"samples\": [\n          1,\n          0\n        ],\n        \"num_unique_values\": 2,\n        \"semantic_type\": \"\",\n        \"description\": \"\"\n      }\n    }\n  ]\n}"
            }
          },
          "metadata": {},
          "execution_count": 2
        }
      ],
      "source": [
        "X = pd.read_csv('train.csv')\n",
        "X.head()"
      ],
      "id": "60862d20-43a1-41ac-a8b5-a6d8e1b0ba14"
    },
    {
      "cell_type": "code",
      "execution_count": 3,
      "metadata": {
        "id": "9c967e70-ba29-43a5-938e-3a4d81e292e4"
      },
      "outputs": [],
      "source": [
        "X_train = X['Text']\n",
        "y_train = X['Sentiment']"
      ],
      "id": "9c967e70-ba29-43a5-938e-3a4d81e292e4"
    },
    {
      "cell_type": "code",
      "execution_count": 4,
      "metadata": {
        "colab": {
          "base_uri": "https://localhost:8080/",
          "height": 206
        },
        "id": "bf41a00f-b35c-4e95-b85b-cd0742771996",
        "outputId": "1eab9b7f-8760-453f-f4ab-1893bd6113a1"
      },
      "outputs": [
        {
          "output_type": "execute_result",
          "data": {
            "text/plain": [
              "                                                Text  Sentiment\n",
              "0  The title creatures wreak havoc at a peaceful ...          0\n",
              "1  Jim Carrey is back to much the same role that ...          1\n",
              "2  From the filmmakers who brought us The March o...          1\n",
              "3  I haven't read a single IMDb comment for this ...          0\n",
              "4  Well, this is probably one of the best movies ...          1"
            ],
            "text/html": [
              "\n",
              "  <div id=\"df-b0281367-5108-48df-bc6a-60dfd1582efd\" class=\"colab-df-container\">\n",
              "    <div>\n",
              "<style scoped>\n",
              "    .dataframe tbody tr th:only-of-type {\n",
              "        vertical-align: middle;\n",
              "    }\n",
              "\n",
              "    .dataframe tbody tr th {\n",
              "        vertical-align: top;\n",
              "    }\n",
              "\n",
              "    .dataframe thead th {\n",
              "        text-align: right;\n",
              "    }\n",
              "</style>\n",
              "<table border=\"1\" class=\"dataframe\">\n",
              "  <thead>\n",
              "    <tr style=\"text-align: right;\">\n",
              "      <th></th>\n",
              "      <th>Text</th>\n",
              "      <th>Sentiment</th>\n",
              "    </tr>\n",
              "  </thead>\n",
              "  <tbody>\n",
              "    <tr>\n",
              "      <th>0</th>\n",
              "      <td>The title creatures wreak havoc at a peaceful ...</td>\n",
              "      <td>0</td>\n",
              "    </tr>\n",
              "    <tr>\n",
              "      <th>1</th>\n",
              "      <td>Jim Carrey is back to much the same role that ...</td>\n",
              "      <td>1</td>\n",
              "    </tr>\n",
              "    <tr>\n",
              "      <th>2</th>\n",
              "      <td>From the filmmakers who brought us The March o...</td>\n",
              "      <td>1</td>\n",
              "    </tr>\n",
              "    <tr>\n",
              "      <th>3</th>\n",
              "      <td>I haven't read a single IMDb comment for this ...</td>\n",
              "      <td>0</td>\n",
              "    </tr>\n",
              "    <tr>\n",
              "      <th>4</th>\n",
              "      <td>Well, this is probably one of the best movies ...</td>\n",
              "      <td>1</td>\n",
              "    </tr>\n",
              "  </tbody>\n",
              "</table>\n",
              "</div>\n",
              "    <div class=\"colab-df-buttons\">\n",
              "\n",
              "  <div class=\"colab-df-container\">\n",
              "    <button class=\"colab-df-convert\" onclick=\"convertToInteractive('df-b0281367-5108-48df-bc6a-60dfd1582efd')\"\n",
              "            title=\"Convert this dataframe to an interactive table.\"\n",
              "            style=\"display:none;\">\n",
              "\n",
              "  <svg xmlns=\"http://www.w3.org/2000/svg\" height=\"24px\" viewBox=\"0 -960 960 960\">\n",
              "    <path d=\"M120-120v-720h720v720H120Zm60-500h600v-160H180v160Zm220 220h160v-160H400v160Zm0 220h160v-160H400v160ZM180-400h160v-160H180v160Zm440 0h160v-160H620v160ZM180-180h160v-160H180v160Zm440 0h160v-160H620v160Z\"/>\n",
              "  </svg>\n",
              "    </button>\n",
              "\n",
              "  <style>\n",
              "    .colab-df-container {\n",
              "      display:flex;\n",
              "      gap: 12px;\n",
              "    }\n",
              "\n",
              "    .colab-df-convert {\n",
              "      background-color: #E8F0FE;\n",
              "      border: none;\n",
              "      border-radius: 50%;\n",
              "      cursor: pointer;\n",
              "      display: none;\n",
              "      fill: #1967D2;\n",
              "      height: 32px;\n",
              "      padding: 0 0 0 0;\n",
              "      width: 32px;\n",
              "    }\n",
              "\n",
              "    .colab-df-convert:hover {\n",
              "      background-color: #E2EBFA;\n",
              "      box-shadow: 0px 1px 2px rgba(60, 64, 67, 0.3), 0px 1px 3px 1px rgba(60, 64, 67, 0.15);\n",
              "      fill: #174EA6;\n",
              "    }\n",
              "\n",
              "    .colab-df-buttons div {\n",
              "      margin-bottom: 4px;\n",
              "    }\n",
              "\n",
              "    [theme=dark] .colab-df-convert {\n",
              "      background-color: #3B4455;\n",
              "      fill: #D2E3FC;\n",
              "    }\n",
              "\n",
              "    [theme=dark] .colab-df-convert:hover {\n",
              "      background-color: #434B5C;\n",
              "      box-shadow: 0px 1px 3px 1px rgba(0, 0, 0, 0.15);\n",
              "      filter: drop-shadow(0px 1px 2px rgba(0, 0, 0, 0.3));\n",
              "      fill: #FFFFFF;\n",
              "    }\n",
              "  </style>\n",
              "\n",
              "    <script>\n",
              "      const buttonEl =\n",
              "        document.querySelector('#df-b0281367-5108-48df-bc6a-60dfd1582efd button.colab-df-convert');\n",
              "      buttonEl.style.display =\n",
              "        google.colab.kernel.accessAllowed ? 'block' : 'none';\n",
              "\n",
              "      async function convertToInteractive(key) {\n",
              "        const element = document.querySelector('#df-b0281367-5108-48df-bc6a-60dfd1582efd');\n",
              "        const dataTable =\n",
              "          await google.colab.kernel.invokeFunction('convertToInteractive',\n",
              "                                                    [key], {});\n",
              "        if (!dataTable) return;\n",
              "\n",
              "        const docLinkHtml = 'Like what you see? Visit the ' +\n",
              "          '<a target=\"_blank\" href=https://colab.research.google.com/notebooks/data_table.ipynb>data table notebook</a>'\n",
              "          + ' to learn more about interactive tables.';\n",
              "        element.innerHTML = '';\n",
              "        dataTable['output_type'] = 'display_data';\n",
              "        await google.colab.output.renderOutput(dataTable, element);\n",
              "        const docLink = document.createElement('div');\n",
              "        docLink.innerHTML = docLinkHtml;\n",
              "        element.appendChild(docLink);\n",
              "      }\n",
              "    </script>\n",
              "  </div>\n",
              "\n",
              "\n",
              "<div id=\"df-faf74cf1-a2c4-4a05-9d85-d7b65ed2ed2b\">\n",
              "  <button class=\"colab-df-quickchart\" onclick=\"quickchart('df-faf74cf1-a2c4-4a05-9d85-d7b65ed2ed2b')\"\n",
              "            title=\"Suggest charts\"\n",
              "            style=\"display:none;\">\n",
              "\n",
              "<svg xmlns=\"http://www.w3.org/2000/svg\" height=\"24px\"viewBox=\"0 0 24 24\"\n",
              "     width=\"24px\">\n",
              "    <g>\n",
              "        <path d=\"M19 3H5c-1.1 0-2 .9-2 2v14c0 1.1.9 2 2 2h14c1.1 0 2-.9 2-2V5c0-1.1-.9-2-2-2zM9 17H7v-7h2v7zm4 0h-2V7h2v10zm4 0h-2v-4h2v4z\"/>\n",
              "    </g>\n",
              "</svg>\n",
              "  </button>\n",
              "\n",
              "<style>\n",
              "  .colab-df-quickchart {\n",
              "      --bg-color: #E8F0FE;\n",
              "      --fill-color: #1967D2;\n",
              "      --hover-bg-color: #E2EBFA;\n",
              "      --hover-fill-color: #174EA6;\n",
              "      --disabled-fill-color: #AAA;\n",
              "      --disabled-bg-color: #DDD;\n",
              "  }\n",
              "\n",
              "  [theme=dark] .colab-df-quickchart {\n",
              "      --bg-color: #3B4455;\n",
              "      --fill-color: #D2E3FC;\n",
              "      --hover-bg-color: #434B5C;\n",
              "      --hover-fill-color: #FFFFFF;\n",
              "      --disabled-bg-color: #3B4455;\n",
              "      --disabled-fill-color: #666;\n",
              "  }\n",
              "\n",
              "  .colab-df-quickchart {\n",
              "    background-color: var(--bg-color);\n",
              "    border: none;\n",
              "    border-radius: 50%;\n",
              "    cursor: pointer;\n",
              "    display: none;\n",
              "    fill: var(--fill-color);\n",
              "    height: 32px;\n",
              "    padding: 0;\n",
              "    width: 32px;\n",
              "  }\n",
              "\n",
              "  .colab-df-quickchart:hover {\n",
              "    background-color: var(--hover-bg-color);\n",
              "    box-shadow: 0 1px 2px rgba(60, 64, 67, 0.3), 0 1px 3px 1px rgba(60, 64, 67, 0.15);\n",
              "    fill: var(--button-hover-fill-color);\n",
              "  }\n",
              "\n",
              "  .colab-df-quickchart-complete:disabled,\n",
              "  .colab-df-quickchart-complete:disabled:hover {\n",
              "    background-color: var(--disabled-bg-color);\n",
              "    fill: var(--disabled-fill-color);\n",
              "    box-shadow: none;\n",
              "  }\n",
              "\n",
              "  .colab-df-spinner {\n",
              "    border: 2px solid var(--fill-color);\n",
              "    border-color: transparent;\n",
              "    border-bottom-color: var(--fill-color);\n",
              "    animation:\n",
              "      spin 1s steps(1) infinite;\n",
              "  }\n",
              "\n",
              "  @keyframes spin {\n",
              "    0% {\n",
              "      border-color: transparent;\n",
              "      border-bottom-color: var(--fill-color);\n",
              "      border-left-color: var(--fill-color);\n",
              "    }\n",
              "    20% {\n",
              "      border-color: transparent;\n",
              "      border-left-color: var(--fill-color);\n",
              "      border-top-color: var(--fill-color);\n",
              "    }\n",
              "    30% {\n",
              "      border-color: transparent;\n",
              "      border-left-color: var(--fill-color);\n",
              "      border-top-color: var(--fill-color);\n",
              "      border-right-color: var(--fill-color);\n",
              "    }\n",
              "    40% {\n",
              "      border-color: transparent;\n",
              "      border-right-color: var(--fill-color);\n",
              "      border-top-color: var(--fill-color);\n",
              "    }\n",
              "    60% {\n",
              "      border-color: transparent;\n",
              "      border-right-color: var(--fill-color);\n",
              "    }\n",
              "    80% {\n",
              "      border-color: transparent;\n",
              "      border-right-color: var(--fill-color);\n",
              "      border-bottom-color: var(--fill-color);\n",
              "    }\n",
              "    90% {\n",
              "      border-color: transparent;\n",
              "      border-bottom-color: var(--fill-color);\n",
              "    }\n",
              "  }\n",
              "</style>\n",
              "\n",
              "  <script>\n",
              "    async function quickchart(key) {\n",
              "      const quickchartButtonEl =\n",
              "        document.querySelector('#' + key + ' button');\n",
              "      quickchartButtonEl.disabled = true;  // To prevent multiple clicks.\n",
              "      quickchartButtonEl.classList.add('colab-df-spinner');\n",
              "      try {\n",
              "        const charts = await google.colab.kernel.invokeFunction(\n",
              "            'suggestCharts', [key], {});\n",
              "      } catch (error) {\n",
              "        console.error('Error during call to suggestCharts:', error);\n",
              "      }\n",
              "      quickchartButtonEl.classList.remove('colab-df-spinner');\n",
              "      quickchartButtonEl.classList.add('colab-df-quickchart-complete');\n",
              "    }\n",
              "    (() => {\n",
              "      let quickchartButtonEl =\n",
              "        document.querySelector('#df-faf74cf1-a2c4-4a05-9d85-d7b65ed2ed2b button');\n",
              "      quickchartButtonEl.style.display =\n",
              "        google.colab.kernel.accessAllowed ? 'block' : 'none';\n",
              "    })();\n",
              "  </script>\n",
              "</div>\n",
              "\n",
              "    </div>\n",
              "  </div>\n"
            ],
            "application/vnd.google.colaboratory.intrinsic+json": {
              "type": "dataframe",
              "variable_name": "x",
              "summary": "{\n  \"name\": \"x\",\n  \"rows\": 25000,\n  \"fields\": [\n    {\n      \"column\": \"Text\",\n      \"properties\": {\n        \"dtype\": \"string\",\n        \"samples\": [\n          \"If you enjoy the subtle (yes, I said subtle) actions and reactions of John Candy, you can't help but like this film (pronounced \\\"fillum\\\" by Salvatore DiPasquale). The unobservant (and uninformed) watcher always saw Candy as a broad actor - a big buffoon. And sometimes he was (see \\\"Stripes\\\" and \\\"Splash\\\"). But, when given the opportunity, he could really be razor-sharp and quite subtle. It's too bad he was cast in so many roles that only showed his broad side, because we'll never get to see more of the other. Oh, yeah, the movie. One can watch \\\"Going Berserk\\\" over and over (I know I have) with the frequency of \\\"Caddyshack.\\\" It's just that good. The plot, although a little convoluted, is actually fairly deep for a farce of this kind. It allows Candy and the always under-rated Joe Flaherty and Eugene Levy to bounce off of Candy...and they bounce HARD. Definitely worth a glance for anyone who enjoyed SCTV or Candy's other work.\",\n          \"There is this girl and she's running in the woods but she ends up at this woman's clinic and she wants an abortion. Her daddy is outside in a van and he is all angry about it. The whole episode takes place in and outside of this abortion clinic. I'm not really pro-choice but I wanted the choice to kill this episode. I was laughing when I saw the baby come out and it went into the corner. The part where they were doing the ultra sound was pretty funny too. I was really feeling sorry for the poor dad in this episode. He just wanted to protect his daughter and I couldn't really blame him for what he did. I don't know what happened to him at the end or what happened to the other father and daughter in the waiting room. I was just laughing too hard and I would suggest watching \\\"Pick me up\\\" instead of this episode. It wasn't the worst episode but it wasn't that great.\",\n          \"Christopher Lloyd is funny and really believable as \\\"Al the head angel\\\". This movie is much better than the first, but it has great special effects that the first did not have as well as a much better plot and writing.<br /><br />OK - it was written for kids, but adults have as much fun as the kids do. Tony Danza does a very realistic job in his role - but this is NOT a Taxi reunion.<br /><br />Danny Glover is actually good and even seems to be very human in his emotions as well as showing some real acting talent for a change, a pleasant change.<br /><br />Watch at least once - it is worth the effort to catch it.\"\n        ],\n        \"num_unique_values\": 24904,\n        \"semantic_type\": \"\",\n        \"description\": \"\"\n      }\n    },\n    {\n      \"column\": \"Sentiment\",\n      \"properties\": {\n        \"dtype\": \"number\",\n        \"std\": 0,\n        \"min\": 0,\n        \"max\": 1,\n        \"samples\": [\n          1,\n          0\n        ],\n        \"num_unique_values\": 2,\n        \"semantic_type\": \"\",\n        \"description\": \"\"\n      }\n    }\n  ]\n}"
            }
          },
          "metadata": {},
          "execution_count": 4
        }
      ],
      "source": [
        "x = pd.read_csv('test.csv')\n",
        "x.head()"
      ],
      "id": "bf41a00f-b35c-4e95-b85b-cd0742771996"
    },
    {
      "cell_type": "code",
      "execution_count": 5,
      "metadata": {
        "id": "a1244425-8aea-440c-a197-e718377e04f9"
      },
      "outputs": [],
      "source": [
        "X_test = x['Text']\n",
        "y_test = x['Sentiment']"
      ],
      "id": "a1244425-8aea-440c-a197-e718377e04f9"
    },
    {
      "cell_type": "code",
      "execution_count": 6,
      "metadata": {
        "id": "e29128bd-2806-4833-afa6-1a9722c28f7a"
      },
      "outputs": [],
      "source": [
        "train_list = []\n",
        "for text in X_train:\n",
        "    train_list.append(text)"
      ],
      "id": "e29128bd-2806-4833-afa6-1a9722c28f7a"
    },
    {
      "cell_type": "code",
      "execution_count": 7,
      "metadata": {
        "id": "c065485c-a6f6-44fc-808c-fe5f8dd310b2"
      },
      "outputs": [],
      "source": [
        "test_list = []\n",
        "for text in X_test:\n",
        "    test_list.append(text)"
      ],
      "id": "c065485c-a6f6-44fc-808c-fe5f8dd310b2"
    },
    {
      "cell_type": "code",
      "execution_count": 8,
      "metadata": {
        "colab": {
          "base_uri": "https://localhost:8080/"
        },
        "id": "30ace7f1-388a-4e66-b4b0-cd34af7e0305",
        "outputId": "8b11aa15-616b-4603-b464-7513f992d0de"
      },
      "outputs": [
        {
          "output_type": "stream",
          "name": "stderr",
          "text": [
            "/usr/local/lib/python3.10/dist-packages/huggingface_hub/utils/_token.py:88: UserWarning: \n",
            "The secret `HF_TOKEN` does not exist in your Colab secrets.\n",
            "To authenticate with the Hugging Face Hub, create a token in your settings tab (https://huggingface.co/settings/tokens), set it as secret in your Google Colab and restart your session.\n",
            "You will be able to reuse this secret in all of your notebooks.\n",
            "Please note that authentication is recommended but still optional to access public models or datasets.\n",
            "  warnings.warn(\n"
          ]
        }
      ],
      "source": [
        "from transformers import DistilBertTokenizerFast\n",
        "tokenizer = DistilBertTokenizerFast.from_pretrained('distilbert-base-uncased')"
      ],
      "id": "30ace7f1-388a-4e66-b4b0-cd34af7e0305"
    },
    {
      "cell_type": "code",
      "execution_count": 9,
      "metadata": {
        "id": "10d93085-8710-4114-b6c9-33bac7c5ac03"
      },
      "outputs": [],
      "source": [
        "train_encodings = tokenizer(train_list, truncation=True, padding=True)\n",
        "test_encodings = tokenizer(test_list, truncation=True, padding=True)"
      ],
      "id": "10d93085-8710-4114-b6c9-33bac7c5ac03"
    },
    {
      "cell_type": "code",
      "execution_count": 10,
      "metadata": {
        "id": "aaa4f647-006a-4f75-822a-ab0060c57f91"
      },
      "outputs": [],
      "source": [
        "train_labels = []\n",
        "for i in y_train:\n",
        "    train_labels.append(i)\n",
        "\n",
        "test_labels = []\n",
        "for i in y_test:\n",
        "    test_labels.append(i)"
      ],
      "id": "aaa4f647-006a-4f75-822a-ab0060c57f91"
    },
    {
      "cell_type": "code",
      "execution_count": 11,
      "metadata": {
        "id": "865534c4-b9e3-4b19-b5eb-7601e5dcef40"
      },
      "outputs": [],
      "source": [
        "class SentimentAnalysis(torch.utils.data.Dataset):\n",
        "    def __init__(self, encodings, labels):\n",
        "        self.encodings = encodings\n",
        "        self.labels = labels\n",
        "\n",
        "    def __getitem__(self, idx):\n",
        "        item = {key: torch.tensor(val[idx]) for key, val in self.encodings.items()}\n",
        "        item['labels'] = torch.tensor(self.labels[idx])\n",
        "        return item\n",
        "\n",
        "    def __len__(self):\n",
        "        return len(self.labels)"
      ],
      "id": "865534c4-b9e3-4b19-b5eb-7601e5dcef40"
    },
    {
      "cell_type": "code",
      "execution_count": 12,
      "metadata": {
        "id": "e6c1abaa-8cb3-43bc-a1b7-0719d3ad04c4"
      },
      "outputs": [],
      "source": [
        "train_dataset = SentimentAnalysis(train_encodings, train_labels)\n",
        "test_dataset = SentimentAnalysis(test_encodings, test_labels)"
      ],
      "id": "e6c1abaa-8cb3-43bc-a1b7-0719d3ad04c4"
    },
    {
      "cell_type": "code",
      "execution_count": 17,
      "metadata": {
        "colab": {
          "base_uri": "https://localhost:8080/"
        },
        "id": "44a11e43-a83a-436f-bdc5-1637229a5bff",
        "outputId": "c881b973-ecf1-4129-f61f-3a17342f1a8a"
      },
      "outputs": [
        {
          "output_type": "stream",
          "name": "stderr",
          "text": [
            "Some weights of DistilBertForSequenceClassification were not initialized from the model checkpoint at distilbert-base-uncased and are newly initialized: ['pre_classifier.bias', 'pre_classifier.weight', 'classifier.bias', 'classifier.weight']\n",
            "You should probably TRAIN this model on a down-stream task to be able to use it for predictions and inference.\n",
            "/usr/local/lib/python3.10/dist-packages/transformers/optimization.py:411: FutureWarning: This implementation of AdamW is deprecated and will be removed in a future version. Use the PyTorch implementation torch.optim.AdamW instead, or set `no_deprecation_warning=True` to disable this warning\n",
            "  warnings.warn(\n"
          ]
        },
        {
          "output_type": "execute_result",
          "data": {
            "text/plain": [
              "DistilBertForSequenceClassification(\n",
              "  (distilbert): DistilBertModel(\n",
              "    (embeddings): Embeddings(\n",
              "      (word_embeddings): Embedding(30522, 768, padding_idx=0)\n",
              "      (position_embeddings): Embedding(512, 768)\n",
              "      (LayerNorm): LayerNorm((768,), eps=1e-12, elementwise_affine=True)\n",
              "      (dropout): Dropout(p=0.1, inplace=False)\n",
              "    )\n",
              "    (transformer): Transformer(\n",
              "      (layer): ModuleList(\n",
              "        (0-5): 6 x TransformerBlock(\n",
              "          (attention): MultiHeadSelfAttention(\n",
              "            (dropout): Dropout(p=0.1, inplace=False)\n",
              "            (q_lin): Linear(in_features=768, out_features=768, bias=True)\n",
              "            (k_lin): Linear(in_features=768, out_features=768, bias=True)\n",
              "            (v_lin): Linear(in_features=768, out_features=768, bias=True)\n",
              "            (out_lin): Linear(in_features=768, out_features=768, bias=True)\n",
              "          )\n",
              "          (sa_layer_norm): LayerNorm((768,), eps=1e-12, elementwise_affine=True)\n",
              "          (ffn): FFN(\n",
              "            (dropout): Dropout(p=0.1, inplace=False)\n",
              "            (lin1): Linear(in_features=768, out_features=3072, bias=True)\n",
              "            (lin2): Linear(in_features=3072, out_features=768, bias=True)\n",
              "            (activation): GELUActivation()\n",
              "          )\n",
              "          (output_layer_norm): LayerNorm((768,), eps=1e-12, elementwise_affine=True)\n",
              "        )\n",
              "      )\n",
              "    )\n",
              "  )\n",
              "  (pre_classifier): Linear(in_features=768, out_features=768, bias=True)\n",
              "  (classifier): Linear(in_features=768, out_features=2, bias=True)\n",
              "  (dropout): Dropout(p=0.2, inplace=False)\n",
              ")"
            ]
          },
          "metadata": {},
          "execution_count": 17
        }
      ],
      "source": [
        "from torch.utils.data import DataLoader\n",
        "from transformers import DistilBertForSequenceClassification, AdamW\n",
        "\n",
        "device = torch.device('cuda') if torch.cuda.is_available() else torch.device('cpu')\n",
        "\n",
        "model = DistilBertForSequenceClassification.from_pretrained('distilbert-base-uncased')\n",
        "model.to(device)\n",
        "model.train()\n",
        "\n",
        "train_loader = DataLoader(train_dataset, batch_size=16, shuffle=True)\n",
        "\n",
        "optim = AdamW(model.parameters(), lr=5e-5)\n",
        "\n",
        "for epoch in range(3):\n",
        "    for batch in train_loader:\n",
        "        optim.zero_grad()\n",
        "        input_ids = batch['input_ids'].to(device)\n",
        "        attention_mask = batch['attention_mask'].to(device)\n",
        "        labels = batch['labels'].to(device)\n",
        "        outputs = model(input_ids, attention_mask=attention_mask, labels=labels)\n",
        "        loss = outputs[0]\n",
        "        loss.backward()\n",
        "        optim.step()\n",
        "\n",
        "model.eval()"
      ],
      "id": "44a11e43-a83a-436f-bdc5-1637229a5bff"
    },
    {
      "cell_type": "code",
      "execution_count": 18,
      "metadata": {
        "id": "44f7afe2-de6f-4811-aa95-9e8b741eaa11"
      },
      "outputs": [],
      "source": [
        "all_predictions = []\n",
        "all_labels = []\n",
        "\n",
        "test_loader = DataLoader(test_dataset, batch_size=16, shuffle=True)\n",
        "\n",
        "for batch in test_loader:\n",
        "    with torch.no_grad():\n",
        "        input_ids = batch['input_ids'].to(device)\n",
        "        attention_mask = batch['attention_mask'].to(device)\n",
        "        labels = batch['labels'].to(device)\n",
        "\n",
        "        outputs = model(input_ids, attention_mask=attention_mask)\n",
        "        logits = outputs.logits\n",
        "\n",
        "        probabilities = torch.softmax(logits, dim=1)\n",
        "\n",
        "        predicted_labels = torch.argmax(probabilities, dim=1)\n",
        "\n",
        "        all_predictions.extend(predicted_labels.cpu().numpy())\n",
        "        all_labels.extend(labels.cpu().numpy())\n",
        "\n",
        "all_predictions = np.array(all_predictions)\n",
        "all_labels = np.array(all_labels)"
      ],
      "id": "44f7afe2-de6f-4811-aa95-9e8b741eaa11"
    },
    {
      "cell_type": "code",
      "execution_count": 19,
      "metadata": {
        "id": "ROla4n-lWltq",
        "colab": {
          "base_uri": "https://localhost:8080/"
        },
        "outputId": "d1ec8c42-29a0-4ea7-a643-520f0a52bc6d"
      },
      "outputs": [
        {
          "output_type": "stream",
          "name": "stdout",
          "text": [
            "[0 1 1 ... 0 1 1]\n",
            "25000\n"
          ]
        }
      ],
      "source": [
        "print(all_predictions)\n",
        "print(len(all_predictions))"
      ],
      "id": "ROla4n-lWltq"
    },
    {
      "cell_type": "code",
      "execution_count": 20,
      "metadata": {
        "id": "CMq0JhGnWtrt",
        "colab": {
          "base_uri": "https://localhost:8080/"
        },
        "outputId": "cb03a846-8700-419a-8226-03896dd191d9"
      },
      "outputs": [
        {
          "output_type": "stream",
          "name": "stdout",
          "text": [
            "[0 1 1 ... 0 0 0]\n",
            "25000\n"
          ]
        }
      ],
      "source": [
        "print(all_labels)\n",
        "print(len(all_labels))"
      ],
      "id": "CMq0JhGnWtrt"
    },
    {
      "cell_type": "code",
      "execution_count": 21,
      "metadata": {
        "id": "jzbXzmR4XNDN",
        "colab": {
          "base_uri": "https://localhost:8080/"
        },
        "outputId": "0cf0b131-2bc8-42f5-b3ed-5f865610ad8d"
      },
      "outputs": [
        {
          "output_type": "stream",
          "name": "stdout",
          "text": [
            "Accuracy: 0.91576\n",
            "Precision: 0.9140376035691523\n",
            "Recall: 0.91784\n",
            "F1-score: 0.9159348555005588\n"
          ]
        }
      ],
      "source": [
        "from sklearn.metrics import accuracy_score, precision_score, recall_score, f1_score\n",
        "\n",
        "# Calculate accuracy\n",
        "accuracy = accuracy_score(all_labels, all_predictions)\n",
        "\n",
        "# Calculate precision\n",
        "precision = precision_score(all_labels, all_predictions)\n",
        "\n",
        "# Calculate recall\n",
        "recall = recall_score(all_labels, all_predictions)\n",
        "\n",
        "# Calculate F1-score\n",
        "f1 = f1_score(all_labels, all_predictions)\n",
        "\n",
        "print(\"Accuracy:\", accuracy)\n",
        "print(\"Precision:\", precision)\n",
        "print(\"Recall:\", recall)\n",
        "print(\"F1-score:\", f1)\n"
      ],
      "id": "jzbXzmR4XNDN"
    },
    {
      "cell_type": "code",
      "execution_count": 22,
      "metadata": {
        "id": "KqASbdsWXb1i",
        "colab": {
          "base_uri": "https://localhost:8080/"
        },
        "outputId": "30c139a0-dd01-4ec1-f1e1-911c9da4576d"
      },
      "outputs": [
        {
          "output_type": "stream",
          "name": "stdout",
          "text": [
            "Model saved successfully at: ./saved_model/\n"
          ]
        }
      ],
      "source": [
        "import os\n",
        "output_dir = \"./saved_model/\"\n",
        "os.makedirs(output_dir, exist_ok=True)\n",
        "\n",
        "model.save_pretrained(output_dir)\n",
        "\n",
        "print(\"Model saved successfully at:\", output_dir)"
      ],
      "id": "KqASbdsWXb1i"
    },
    {
      "cell_type": "code",
      "source": [
        "import torch\n",
        "from transformers import AutoTokenizer, AutoModelForSequenceClassification\n",
        "\n",
        "device = torch.device(\"cuda\" if torch.cuda.is_available() else \"cpu\")\n",
        "\n",
        "def predict_single_text(text):\n",
        "    inputs = tokenizer(text, return_tensors=\"pt\", max_length=128, truncation=True, padding=True)\n",
        "\n",
        "    input_ids = inputs[\"input_ids\"].to(device)\n",
        "    attention_mask = inputs[\"attention_mask\"].to(device)\n",
        "\n",
        "    with torch.no_grad():\n",
        "        outputs = model(input_ids, attention_mask=attention_mask)\n",
        "        logits = outputs.logits\n",
        "\n",
        "    probabilities = torch.softmax(logits, dim=1)\n",
        "\n",
        "    predicted_label = torch.argmax(probabilities, dim=1).item()\n",
        "\n",
        "    return predicted_label"
      ],
      "metadata": {
        "id": "JyVBF9vD9Dau"
      },
      "id": "JyVBF9vD9Dau",
      "execution_count": 27,
      "outputs": []
    },
    {
      "cell_type": "code",
      "source": [
        "#for positive prediction\n",
        "text_to_predict = \"The Movie was very good\"\n",
        "predicted_label = predict_single_text(text_to_predict)\n",
        "print(\"Predicted label:\", \"positive\" if predicted_label == 1 else \"Negative\")"
      ],
      "metadata": {
        "colab": {
          "base_uri": "https://localhost:8080/"
        },
        "id": "Je04LCbdNRea",
        "outputId": "658318c5-a8b9-4e35-b2f2-b302c7f88051"
      },
      "id": "Je04LCbdNRea",
      "execution_count": 28,
      "outputs": [
        {
          "output_type": "stream",
          "name": "stdout",
          "text": [
            "Predicted label: positive\n"
          ]
        }
      ]
    },
    {
      "cell_type": "code",
      "source": [
        "#for positive prediction\n",
        "text_to_predict = \"The Movie was not so good\"\n",
        "predicted_label = predict_single_text(text_to_predict)\n",
        "print(\"Predicted label:\", \"positive\" if predicted_label == 1 else \"Negative\")"
      ],
      "metadata": {
        "colab": {
          "base_uri": "https://localhost:8080/"
        },
        "id": "s39Bbu6ANpFb",
        "outputId": "f5bca0d1-7631-41d9-c19d-34daca0f17a8"
      },
      "id": "s39Bbu6ANpFb",
      "execution_count": 29,
      "outputs": [
        {
          "output_type": "stream",
          "name": "stdout",
          "text": [
            "Predicted label: Negative\n"
          ]
        }
      ]
    }
  ],
  "metadata": {
    "accelerator": "GPU",
    "colab": {
      "gpuType": "T4",
      "provenance": []
    },
    "kernelspec": {
      "display_name": "Python 3",
      "name": "python3"
    },
    "language_info": {
      "codemirror_mode": {
        "name": "ipython",
        "version": 3
      },
      "file_extension": ".py",
      "mimetype": "text/x-python",
      "name": "python",
      "nbconvert_exporter": "python",
      "pygments_lexer": "ipython3",
      "version": "3.9.18"
    }
  },
  "nbformat": 4,
  "nbformat_minor": 5
}