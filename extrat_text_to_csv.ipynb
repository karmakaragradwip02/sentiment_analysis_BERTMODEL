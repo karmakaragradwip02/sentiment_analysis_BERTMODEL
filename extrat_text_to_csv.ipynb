{
 "cells": [
  {
   "cell_type": "code",
   "execution_count": 1,
   "id": "b857de76-e615-4e20-bdd0-83105da630a8",
   "metadata": {},
   "outputs": [],
   "source": [
    "import csv\n",
    "import os\n",
    "import random\n",
    "import pandas as pd"
   ]
  },
  {
   "cell_type": "code",
   "execution_count": 2,
   "id": "30b0441c-6d5b-4b6c-94de-35ae0c33cb74",
   "metadata": {},
   "outputs": [],
   "source": [
    "def extract_text_from_folder(folder_path, sentiment):\n",
    "    texts = []\n",
    "    for file_name in os.listdir(folder_path):\n",
    "        file_path = os.path.join(folder_path, file_name)\n",
    "        if os.path.isfile(file_path) and file_name.endswith('.txt'):\n",
    "            with open(file_path, 'r', encoding='utf-8') as file:\n",
    "                text = file.read()\n",
    "                texts.append((text, sentiment))\n",
    "    return texts"
   ]
  },
  {
   "cell_type": "code",
   "execution_count": 3,
   "id": "b9471ffb-51bf-4ed4-a838-93ea3a968f58",
   "metadata": {},
   "outputs": [],
   "source": [
    "test_pos_folder = 'test/pos'\n",
    "test_neg_folder = 'test/neg'\n",
    "train_pos_folder = 'train/pos'\n",
    "train_neg_folder = 'train/neg'"
   ]
  },
  {
   "cell_type": "code",
   "execution_count": 4,
   "id": "8c38007d-ee0d-4f3b-8487-8d4e591ab151",
   "metadata": {},
   "outputs": [],
   "source": [
    "# Extract texts from positive and negative folders\n",
    "test_pos_texts = extract_text_from_folder(test_pos_folder, 1)\n",
    "test_neg_texts = extract_text_from_folder(test_neg_folder, 0)\n",
    "train_pos_texts = extract_text_from_folder(train_pos_folder, 1)\n",
    "train_neg_texts = extract_text_from_folder(train_neg_folder, 0)"
   ]
  },
  {
   "cell_type": "code",
   "execution_count": 5,
   "id": "4a393125-2f67-4903-b9b3-d5e779837c18",
   "metadata": {},
   "outputs": [
    {
     "name": "stdout",
     "output_type": "stream",
     "text": [
      "CSV file created successfully.\n"
     ]
    }
   ],
   "source": [
    "test_all_texts = test_pos_texts + test_neg_texts\n",
    "train_all_texts = train_pos_texts + train_neg_texts\n",
    "random.shuffle(test_all_texts)\n",
    "random.shuffle(train_all_texts)\n",
    "\n",
    "test_df = pd.DataFrame(test_all_texts, columns=['Text', 'Sentiment'])\n",
    "train_df = pd.DataFrame(train_all_texts, columns=['Text', 'Sentiment'])\n",
    "\n",
    "# Write to CSV\n",
    "test_df.to_csv('test.csv', index=False)\n",
    "train_df.to_csv('train.csv', index=False)\n",
    "print(\"CSV file created successfully.\")"
   ]
  }
 ],
 "metadata": {
  "kernelspec": {
   "display_name": "Python 3 (ipykernel)",
   "language": "python",
   "name": "python3"
  },
  "language_info": {
   "codemirror_mode": {
    "name": "ipython",
    "version": 3
   },
   "file_extension": ".py",
   "mimetype": "text/x-python",
   "name": "python",
   "nbconvert_exporter": "python",
   "pygments_lexer": "ipython3",
   "version": "3.9.18"
  }
 },
 "nbformat": 4,
 "nbformat_minor": 5
}
